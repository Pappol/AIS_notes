{
 "cells": [
  {
   "cell_type": "markdown",
   "id": "d0831374-937d-4eb2-8ea9-5c2b69654979",
   "metadata": {},
   "source": [
    "# ELE510 Image Processing with robot vision: LAB, Exercise 5, Frequency-domain processing."
   ]
  },
  {
   "cell_type": "markdown",
   "id": "07c3a86d-4d5d-4d28-b7f7-144d45064146",
   "metadata": {},
   "source": [
    "## Problem 1\n",
    "\n",
    "The Fourier Transform is separable, that means that the two-dimensional transform is a sequence of two one-dimensional transforms. \n",
    "For images this can be considered as a transform along rows followed by a transform along columns (note that the input to the second step is the result from the first step, i.e. an image where the rows represents frequency and the columns space, $F(f_{x},y)$). \n",
    "To get a better understanding of the **DFT** it is therefore convenient to study the one-dimensional transform:\n",
    "\n",
    "\\begin{equation}\n",
    "    G(k) = \\sum_{x=0}^{w-1} g(x)e^{-j2\\pi\\frac{kx}{w}}, \\qquad k = 0, 1, 2, \\;\\cdots\\;,(w-1),\n",
    "\\end{equation}\n",
    "\n",
    "and its inverse, **IDFT**:\n",
    "\n",
    "\\begin{equation}\n",
    "    g(x) = \\frac{1}{w}\\sum_{k=0}^{w-1} G(k)e^{j2\\pi\\frac{kx}{w}}, \\qquad  x = 0, 1, 2,\\;\\cdots\\;,(w-1).\n",
    "\\end{equation}\n",
    "\n",
    "One period of the signal is $g(x),\\, x = 0, 1, 2,\\;\\cdots\\;,(w-1)$ and in the frequency domain $F(k),\\, k = 0, 1, 2, \\;\\cdots\\;,(w-1)$.\n",
    "\n",
    "**a)** Find the DC-component, $G(0)$. What does $\\frac{G(0)}{w}$ represent?"
   ]
  },
  {
   "cell_type": "markdown",
   "id": "15c04a4f",
   "metadata": {},
   "source": [
    "To find the DC-component, $G(0)$, we can simply plug in $k = 0$ into the equation for the one-dimensional Discrete Fourier Transform (DFT):\n",
    "\n",
    "\\begin{equation}\n",
    "G(0) = \\sum_{x=0}^{w-1} g(x)e^{-j2\\pi\\frac{0x}{w}} = \\sum_{x=0}^{w-1} g(x)e^0 = \\sum_{x=0}^{w-1} g(x).\n",
    "\\end{equation}\n",
    "\n",
    "So, $G(0)$ is equal to the sum of all values in the signal $g(x)$ for $x$ ranging from 0 to $w-1$. \n",
    "\n",
    "Now, let's consider the term $\\frac{G(0)}{w}$. This term represents the average value of the signal $g(x)$ over the range of values from 0 to $w-1$. In other words, it's the mean value of the signal. So, $\\frac{G(0)}{w}$ represents the DC (Direct Current) component of the signal, which is the average or mean value of the signal. This is often referred to as the \"baseline\" or the average intensity of the signal and can be thought of as the signal's component at zero frequency, which does not oscillate like the other frequency components in the DFT."
   ]
  },
  {
   "cell_type": "markdown",
   "id": "5afc3e6f-febe-4ad5-bf91-b5e55af512b0",
   "metadata": {},
   "source": [
    "**b)** Show that the DFT is periodic, i.e. $G(k) = G(k+l\\cdot w)$, where $l$ is an arbitrary integer.\n"
   ]
  },
  {
   "cell_type": "markdown",
   "id": "88331569",
   "metadata": {},
   "source": [
    "To show that the Discrete Fourier Transform (DFT) is periodic, we'll substitute $k + l\\cdot w$ into the DFT equation and demonstrate that it yields the same result as $k$ for any integer value of $l$. \n",
    "\n",
    "The DFT equation is given as:\n",
    "\n",
    "\\begin{equation}\n",
    "G(k) = \\sum_{x=0}^{w-1} g(x)e^{-j2\\pi\\frac{kx}{w}}, \\quad k = 0, 1, 2, \\cdots, (w-1).\n",
    "\\end{equation}\n",
    "\n",
    "Now, let's substitute $k + l\\cdot w$ into the equation:\n",
    "\n",
    "\\begin{align*}\n",
    "G(k + l\\cdot w) &= \\sum_{x=0}^{w-1} g(x)e^{-j2\\pi\\frac{(k + l\\cdot w)x}{w}} \\\\\n",
    "&= \\sum_{x=0}^{w-1} g(x)e^{-j2\\pi\\frac{kx}{w}}e^{-j2\\pi l x} \\quad \\text{using properties of exponents} \\\\\n",
    "&= \\sum_{x=0}^{w-1} g(x)e^{-j2\\pi\\frac{kx}{w}} \\cdot 1 \\quad \\\\ \n",
    "\\end{align*}\n",
    "since $\n",
    "e^{-j2\\pi l x} = cos(-2\\pi l x) + jsin(-2\\pi l x) = 1 + j \\cdot 0\n",
    "$.\n",
    "\n",
    "So:\n",
    "\n",
    "\\begin{equation}\n",
    "G(k + l\\cdot w) = G(k) \\quad \\text{for any integer value of } l.\n",
    "\\end{equation}\n",
    "\n",
    "This demonstrates that the DFT is periodic with a period of $w$. In other words, the DFT values repeat every $w$ samples in the frequency domain."
   ]
  },
  {
   "cell_type": "markdown",
   "id": "df9bc616-d043-471a-bca1-ed0f2d457dc3",
   "metadata": {},
   "source": [
    "**c)** Find $G(k)$ for the centered box-function with 5 non-zero samples, $w = 16$.\n",
    "\\begin{equation}\n",
    "    g(x)  =\n",
    "    \\begin{cases}\n",
    "          1  \\qquad \\text{for} \\qquad   x = 0, 1, 2\\;\\text{and}\\;14,15. \\\\\n",
    "          0   \\qquad \\text{otherwise,}\n",
    "    \\end{cases}\n",
    "\\end{equation}"
   ]
  },
  {
   "cell_type": "markdown",
   "id": "f4676eb6",
   "metadata": {},
   "source": [
    "To find the Discrete Fourier Transform (DFT) of the centered box function with 5 non-zero samples, we can use the formula for the DFT:\n",
    "\n",
    "For $k = 0$:\n",
    "\\begin{align*}\n",
    "G(0) &= \\sum_{x=0}^{15} g(x)e^{-j2\\pi\\frac{0x}{16}} \\\\\n",
    "&= \\sum_{x=0}^{15} g(x)e^0 \\\\\n",
    "&= g(0) + g(1) + g(2) + g(14) + g(15) \\\\\n",
    "&= 1 + 1 + 1 + 1 + 1 \\\\\n",
    "&= 5\n",
    "\\end{align*}\n",
    "\n",
    "For $k = 1$:\n",
    "\\begin{align*}\n",
    "G(1) &= \\sum_{x=0}^{15} g(x)e^{-j2\\pi\\frac{1x}{16}} \\\\\n",
    "&= \\sum_{x=0}^{15} g(x)e^{-j\\frac{\\pi}{8}x}\n",
    "\\end{align*}\n",
    "\n",
    "Now, we need to consider the values of $g(x)e^{-j\\frac{\\pi}{8}x}$ for each non-zero $x$:\n",
    "\n",
    "- $x = 0, 1, 2, 14, 15$: $g(x)e^{-j\\frac{\\pi}{8}x} = 1$.\n",
    "- All other values of $x$: $g(x)e^{-j\\frac{\\pi}{8}x} = 0$.\n",
    "\n",
    "So, for $k = 1$, we have:\n",
    "\\begin{align*}\n",
    "G(1) &= \\sum_{x=0}^{15} g(x)e^{-j\\frac{\\pi}{8}x} \\\\\n",
    "&= 5 \\cdot 1 + 0 \\cdot \\sum_{x\\neq0,1,2,14,15} 0 \\\\\n",
    "&= 5\n",
    "\\end{align*}\n",
    "\n",
    "For $k = 2$, $k = 14$, and $k = 15$, the calculation is similar to that for $k = 1$ because the values of $g(x)e^{-j\\frac{\\pi}{8}x}$ for the non-zero samples are the same.\n",
    "\n",
    "For $k = 3$ to $k = 13$, all the values of $g(x)e^{-j\\frac{\\pi}{8}x}$ for non-zero $x$ are 0, so $G(k) = 0$ for these values.\n",
    "\n",
    "So, the DFT values for the given centered box function are:\n",
    "\n",
    "- $G(0) = 5$\n",
    "- $G(1) = G(2) = G(14) = G(15) = 5$\n",
    "- $G(k) = 0$ for all other values of $k$."
   ]
  },
  {
   "cell_type": "markdown",
   "id": "6b36b077-b859-4297-b55a-73a16066eabd",
   "metadata": {},
   "source": [
    "## Problem 2\n",
    "**a)**  Use $g(x)$ as defined in **1 c)**, for $x \\in [0,15]$. Use  **numpy.fft.fft**  for finding the dft, $G(k)$.  Plot both $g(x)$ and $G(k)$.  Also plot the mathematical solution from probelm c) and see if / how they correspond.  \n",
    "\n",
    "You can also try to sketch $g(x)$ and $G(k)$ in the index range $-8,-7,\\;\\cdots\\;,-1, 0, 1, 2,\\;\\cdots\\;,7$ (note the periodic property of both functions).  \n"
   ]
  },
  {
   "cell_type": "code",
   "execution_count": 1,
   "id": "4433cf52-827f-449b-aee5-32acadbfcd44",
   "metadata": {},
   "outputs": [],
   "source": [
    "import os\n",
    "import matplotlib.pyplot as plt  \n",
    "import math\n",
    "import numpy as np\n",
    "import cv2"
   ]
  },
  {
   "cell_type": "code",
   "execution_count": null,
   "id": "8915e006-3eaf-4e71-8193-b1f7444d34c7",
   "metadata": {},
   "outputs": [],
   "source": [
    "# Sketch it using python.\n",
    "\n",
    "# Both functions are discrete and periodic with period N=16. Note that the DFT of the discrete box\n",
    "# function approximates a truncated \"sinc\" function. The continuous Fourier transform of the\n",
    "# continuous box function is a \"sinc\" function with infinite duration.\n",
    "#  INSERT CODE:\n",
    "\n",
    "n = \n",
    "f = \n",
    "F = \n",
    "\n",
    "\n",
    "# Visualization of the result from the calculations, with zeros in the midle :\n",
    "plt.figure(figsize=(20,20))\n",
    "plt.subplot(411)\n",
    "plt.stem(n,f)\n",
    "plt.title('g(x) -- box function')\n",
    "plt.subplot(412)\n",
    "plt.stem(n,F)\n",
    "plt.title('G(k) -- DFT of box function, analytical solution')\n",
    "\n",
    "# Visualization of the results from using numpy.fft.fft.  \n",
    "#  INSERT CODE \n",
    "\n",
    "g = \n",
    "G = \n",
    "\n",
    "\n",
    "plt.subplot(413)\n",
    "plt.stem(g)\n",
    "plt.title('g(x) -- box function plot from 0 to 15')\n",
    "plt.subplot(414)\n",
    "plt.stem(G)\n",
    "plt.title('G(k) -- DFT of box function, using FFT of g')\n",
    "\n",
    "plt.show()\n",
    "\n"
   ]
  },
  {
   "cell_type": "markdown",
   "id": "e5c99900-de11-4ed7-a27f-1939ac243ca4",
   "metadata": {},
   "source": [
    "## Problem 3\n",
    "\n",
    "**a)**   \n",
    "In **Problem 2** the DFT (fft) was real - by coincidence.   In general it is complex.   In this part we will take in an image and look at it in space-domain (the image itself) and in frequency domain looking at just **the magnitude** of the DFT.  \n",
    "Useful functions :  **numpy.fft.fft2** ,  **numpy.fft.fftshift** .  \n",
    "Import an image as a grayscale image.  It can be your own image for fun ( our just do soapbubbles.png).  Fill inn the cell below, finding a zero mean version of the image and the DFT of both the iage and the zero mean image.\n",
    "\n"
   ]
  },
  {
   "cell_type": "code",
   "execution_count": null,
   "id": "943f1297-2100-4fd4-9409-e43dd03a1191",
   "metadata": {},
   "outputs": [],
   "source": [
    "# Import an image I as grayscale \n",
    "imagepath = \n",
    "I = \n",
    "\n",
    "#Remove the mean from the image I, make the zero mean image Iz.  \n",
    "Iz = \n",
    "\n",
    "# Compute the 2D DFT of the image I and the zero-mean image Izm.  Shift so that the zero-frequency component is at the center of the image.\n",
    "# se np.fft.fftshift \n",
    "\n",
    "DFT_I = \n",
    "DFT_SHIFT_I = \n",
    "DFT_Iz = \n",
    "DFT_SHIFT_Iz = \n"
   ]
  },
  {
   "cell_type": "markdown",
   "id": "f1edb736-f7fe-4fb6-8391-cc079bf61819",
   "metadata": {},
   "source": [
    "**b)**  \n",
    "Now you will find the magnitude of the DFT of I and Iz.  You are going to make a plot where you plot the image at the top, one row with the magnitude directly of I and Iz, and another where we do the scaling we do for display purposes as we talked about in class using the logarithm of the logarithm(1+magnitude(DFT)) .  "
   ]
  },
  {
   "cell_type": "code",
   "execution_count": null,
   "id": "54ed3fa1-e408-4e7c-9fb3-e6a1ddc6c49b",
   "metadata": {},
   "outputs": [],
   "source": [
    "# plot here"
   ]
  },
  {
   "cell_type": "markdown",
   "id": "0ff0f87d-c27b-42c0-a1a4-87a53580aded",
   "metadata": {},
   "source": [
    "**c)** Comment on both the difference we see on the magnitude for I and Iz as well as with and without the scaling  "
   ]
  },
  {
   "cell_type": "markdown",
   "id": "bd365fda-72a8-4b8e-aa9b-edeb043f5f6d",
   "metadata": {},
   "source": [
    "## Problem 4\n",
    "\n",
    "**a)**  \n",
    "Now we will consider both the magnitude and the phase.  Lets input two images convert to DFT and see we get the image back doing IDFT.  Also convert to DFT and switch the phase between the images before IDFT and look at the results.  \n",
    "Use two images of choice.  Just rescale or crop so you have to images the same size before doing the DFT.  (alternative use BorderCollie.jpeg and zebra.jpeg , they are the same size)  Plot the DFT (scaled magnitude and phase) and the reconstructed images with the right and wrong phase.  "
   ]
  },
  {
   "cell_type": "code",
   "execution_count": null,
   "id": "c7cb8999-2382-4a84-b8d6-d0e5676d302c",
   "metadata": {},
   "outputs": [],
   "source": [
    "# Herer: find fft , and plot images, magnitude plots and phase plots.\n",
    "\n",
    "I1 = \n",
    "I2 = \n",
    "\n",
    "# insert code\n",
    "\n",
    "\n",
    "# fill out the missing:\n",
    "\n",
    "plt.figure(figsize=(30,30))\n",
    "plt.subplot(321),plt.imshow(I1, cmap=\"gray\")\n",
    "plt.title('original image I1')\n",
    "plt.subplot(322),plt.imshow(I2, cmap=\"gray\")\n",
    "plt.title('original image I2')\n",
    "plt.subplot(323),\n",
    "plt.imshow( ,cmap=\"gray\")\n",
    "plt.title('DFT magnitude (shifted) of I1')\n",
    "plt.subplot(324),\n",
    "plt.imshow( ,cmap=\"gray\")\n",
    "plt.title('DFT magnitude (shifted) of I2')\n",
    "plt.subplot(325)\n",
    "plt.imshow( ,cmap=\"gray\")\n",
    "plt.title('Phase, I1')\n",
    "plt.subplot(326),\n",
    "plt.imshow( ,cmap=\"gray\")\n",
    "plt.title('Phase, I2')\n",
    "plt.show()"
   ]
  },
  {
   "cell_type": "code",
   "execution_count": null,
   "id": "165480eb-7559-4c67-9e39-ea8a0ba2f881",
   "metadata": {},
   "outputs": [],
   "source": [
    "# Use this to find real and imaginary parts of the combined images:\n",
    "#real_part = magnitude * np.cos(phase)\n",
    "#imaginary_part = magnitude * np.sin(phase)\n",
    "\n",
    "#  Splitting up into real and imaginary, putting back together and do IDFT for one image.  Does not change image: \n",
    "rec1 = \n",
    "rec2 = \n",
    "\n",
    "#  Splitting up into real and imaginary using wrong phase, putting back together and do IDFT:  \n",
    "\n",
    "rec_j1 = \n",
    "rec_j2 = \n",
    "\n",
    "plt.figure(figsize=(30,20))\n",
    "plt.subplot(221)\n",
    "plt.imshow(rec1,cmap=\"gray\")\n",
    "plt.title('Reconstructed I1, (magnitude from I1, Phase from I1)')\n",
    "plt.subplot(222),\n",
    "plt.imshow(rec2,cmap=\"gray\")\n",
    "plt.title('Reconstructed I2, (magnitude from I2, Phase from I2)')\n",
    "plt.subplot(223)\n",
    "plt.imshow(rec_j1,cmap=\"gray\")\n",
    "plt.title('Magnitude from I1, Phase from I2')\n",
    "plt.subplot(224),\n",
    "plt.imshow(rec_j2,cmap=\"gray\")\n",
    "plt.title('Magnitude from I2, Phase from I1')\n",
    "plt.show()\n"
   ]
  },
  {
   "cell_type": "markdown",
   "id": "8cea1fb3-90c4-4e9a-8d5b-f20c43dd74ac",
   "metadata": {},
   "source": [
    "**b)**   \n",
    "\n",
    "Take one of the images from the previous section , do the shift so the low frequencies are in the midle of the DFT images.  Thereafter remove low frequencies (high pass filter) or remove high frequencies (loww pass filter) by an ideal filter in the frequency domain.  How can you do that?    Make and image the same size with just ones and zeros.  Let there be zeros in a circle in the midle (for high pass).  How big circle?  That defines the **cutoff-frequency** .  Try different sizes and see.  Use this image as a filter.  Remember convolution (filtering) in space domain is multiplication in the frequency domain.   \n",
    "\n",
    "**OBS** when transforming back to space domain we might get a complex image since we have tampered with the complex DFT image.  Plot the **magnitude** of the reconstructed image in the space-domain  "
   ]
  },
  {
   "cell_type": "code",
   "execution_count": null,
   "id": "1397d470-cb88-4908-98f3-a1522bd45c23",
   "metadata": {},
   "outputs": [],
   "source": [
    "#  Make and plot the ideal filtermask here: \n",
    "\n",
    "# initialization: \n",
    "high_pass_filter=np.ones_like(I1)\n",
    "low_pass_filter=np.zeros_like(I1)\n",
    "rows,cols = I1.shape\n",
    "\n",
    "cutoff_frequency_hp = 30  # Cutoff frequency in pixels\n",
    "cutoff_frequency_lp = 30  # Cutoff frequency in pixels\n",
    "\n",
    "#Create and plot the ideal high-paass filter mask here:\n",
    "\n",
    "\n"
   ]
  },
  {
   "cell_type": "code",
   "execution_count": 1,
   "id": "87a3859d-bbbe-4172-8d54-3e9cdffbef14",
   "metadata": {},
   "outputs": [],
   "source": [
    "# Use the low-pass filtermask to remove high frequencies and the high-pass filtermask to remove low frequencies in the frequency domain, \n",
    "#reconstruct image to the spatial domain and plot it:\n",
    "\n",
    "I1_HP = \n",
    "\n",
    "I2_HP = \n",
    "\n",
    "I1_LP = \n",
    "\n",
    "I2_LP = \n",
    "\n",
    "plt.figure(figsize=(30,20))\n",
    "plt.subplot(221)\n",
    "plt.imshow(I1_HP,cmap=\"gray\")\n",
    "plt.title('Frequency domain, High-pass filtered (ideal filter), I1')\n",
    "plt.subplot(222),\n",
    "plt.imshow(I2_HP,cmap=\"gray\")\n",
    "plt.title('Frequency domain, High-pass filtered (ideal filter), I2')\n",
    "plt.subplot(223)\n",
    "plt.imshow(I1_LP,cmap=\"gray\")\n",
    "plt.title('Frequency domain, Low-pass filtered (ideal filter), I1')\n",
    "plt.subplot(224),\n",
    "plt.imshow(I2_LP,cmap=\"gray\")\n",
    "plt.title('Frequency domain, Low-pass filtered (ideal filter), I2')\n",
    "plt.show()"
   ]
  }
 ],
 "metadata": {
  "kernelspec": {
   "display_name": "Python 3 (ipykernel)",
   "language": "python",
   "name": "python3"
  },
  "language_info": {
   "codemirror_mode": {
    "name": "ipython",
    "version": 3
   },
   "file_extension": ".py",
   "mimetype": "text/x-python",
   "name": "python",
   "nbconvert_exporter": "python",
   "pygments_lexer": "ipython3",
   "version": "3.10.9"
  }
 },
 "nbformat": 4,
 "nbformat_minor": 5
}
