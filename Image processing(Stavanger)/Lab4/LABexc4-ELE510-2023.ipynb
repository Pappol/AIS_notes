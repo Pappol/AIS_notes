{
 "cells": [
  {
   "cell_type": "markdown",
   "metadata": {
    "deletable": false,
    "run_control": {
     "frozen": true
    }
   },
   "source": [
    "# ELE510 Image Processing with robot vision: LAB, Exercise  4, Spatial-domain filtering"
   ]
  },
  {
   "cell_type": "markdown",
   "metadata": {
    "deletable": false,
    "run_control": {
     "frozen": true
    }
   },
   "source": [
    "**Purpose:** *To learn about Linear Filters and Local Image Features and its use in computer vision (image processing). Some basic experiments will be implemented using Pyhon, OpenCV and other packages.*\n",
    "\n",
    "The theory for this exercise can be found in chapter 5 of the text book [1]. See also the following documentations for help:\n",
    "- [OpenCV](https://docs.opencv.org/4.8.0/d6/d00/tutorial_py_root.html)\n",
    "- [numpy](https://numpy.org/doc/stable/)\n",
    "- [matplotlib](https://matplotlib.org/stable/users/index.html)\n",
    "- [scipy](https://docs.scipy.org/doc/)\n",
    "\n",
    "\n",
    "**IMPORTANT:** Read the text carefully before starting the work. In\n",
    "many cases it is necessary to do some preparations before you start the work\n",
    "on the computer. Read necessary theory and answer the theoretical part\n",
    "first. The theoretical and experimental part should be solved individually.\n",
    "The notebook must be approved by the lecturer or his assistant.\n",
    "\n",
    "**Approval:**\n",
    "<div class=\"alert alert-block alert-success\">\n",
    "The current notebook should be submitted on CANVAS as a single pdf file. \n",
    "</div>\n",
    "\n",
    "<div class=\"alert alert-block alert-info\">\n",
    "    To export the notebook in a pdf format, goes to File -> Download as -> PDF via LaTeX (.pdf).\n",
    "</div>\n",
    "\n",
    "**Note regarding the notebook**: The theoretical questions can be answered directly on the notebook using a *Markdown* cell and LaTex commands (if relevant). In alternative, you can attach a scan (or an image) of the answer directly in the cell.\n",
    "\n",
    "Possible ways to insert an image in the markdown cell:\n",
    "\n",
    "`![image name](\"image_path\")`\n",
    "\n",
    "`<img src=\"image_path\" alt=\"Alt text\" title=\"Title text\" />`\n",
    "\n",
    "\n",
    "**Under you will find parts of the solution that is already programmed.**\n",
    "\n",
    "<div class=\"alert alert-block alert-info\">\n",
    "    <p>You have to fill out code everywhere it is indicated with `...`</p>\n",
    "    <p>The code section under `######## a)` is answering subproblem a) etc.</p>\n",
    "</div>"
   ]
  },
  {
   "cell_type": "markdown",
   "metadata": {
    "deletable": false,
    "run_control": {
     "frozen": true
    }
   },
   "source": [
    "## Problem 1\n",
    "\n",
    "In this problem we want to get a better understanding of linear filtering using convolution. \n",
    "\n",
    "**The computations should be done first by hand on paper (attached a picture for your solution)**. Thereafter, check the results on the notebook with the pre-built functions.\n",
    "\n",
    "**Sobel** and **Prewitt** masks are used to compute the two components of the gradient. \n",
    "They perform differentiation over a 3 pixel region in the horizontal (x) and vertical (y) direction respectively and smooth by a 3 pixel smoothing filter in the other direction. \n",
    "The masks represent separable 2D filters and can thereby be separated in a differentiation filter and a smoothing filter.\n",
    "\n",
    "The **Sobel masks**:\n",
    "\\begin{equation}\\label{L3-eq6}\n",
    "    {\\mathbf h}_{x}= \\begin{bmatrix} 1\\; & 0\\; & -1\\\\ 2\\; & 0\\; & -2 \\\\\n",
    "      1\\; & 0\\; & -1\\end{bmatrix}   \\qquad {\\mathbf h}_{y}= \\begin{bmatrix} 1 & 2 & 1\\\\ 0 & 0 & 0 \\\\\n",
    "      -1 & -2 & -1\\end{bmatrix}.\n",
    "\\end{equation}\n",
    "\n",
    "The **Prewitt masks**:\n",
    "\\begin{equation}\\label{L3-eq7}\n",
    "    {\\mathbf h}_{x}= \\begin{bmatrix} 1\\; & 0\\; & -1\\\\ 1\\; & 0\\; & -1 \\\\\n",
    "      1\\; & 0\\; & -1\\end{bmatrix}   \\qquad {\\mathbf h}_{y}= \\begin{bmatrix} 1 & 1 & 1\\\\ 0 & 0 & 0 \\\\\n",
    "      -1 & -1 & -1\\end{bmatrix}.\n",
    "\\end{equation}\n",
    "\n",
    "**a)** Find the 1D **differentiation filter** and the 1D **smoothing filter** for the Sobel and Prewitt masks. The result will be similar for the x- and y-direction. It is therefore sufficient to find the result for one of the directions, e.g. the x-direction.\n",
    "\n",
    "Consider the following image:\n",
    "\n",
    "\\begin{equation}\\label{Lab2eq6}\n",
    "    {\\mathbf Im} = \\begin{bmatrix} \n",
    "    0 & 0 & 0 & 0 & 0 & 0\\\\\n",
    "    0 & 0 & 1 & 1 & 0 & 0\\\\\n",
    "    0 & 1 & 0 & 1 & 1 & 0\\\\\n",
    "    0 & 1 & 1 & 0 & 1 & 0\\\\\n",
    "    0 & 0 & 1 & 1 & 0 & 0\\\\\n",
    "    0 & 0 & 0 & 0 & 0 & 0\\end{bmatrix}.\n",
    "\\end{equation}\n",
    "\n",
    "\n",
    "\n"
   ]
  },
  {
   "cell_type": "markdown",
   "metadata": {},
   "source": []
  },
  {
   "cell_type": "markdown",
   "metadata": {
    "deletable": false,
    "run_control": {
     "frozen": true
    }
   },
   "source": [
    "**b)** Filter this image using the **Prewitt** masks. Find the two output images, representing the differential along the horizontal and vertical directions.\n"
   ]
  },
  {
   "cell_type": "markdown",
   "metadata": {},
   "source": []
  },
  {
   "cell_type": "markdown",
   "metadata": {
    "deletable": false,
    "run_control": {
     "frozen": true
    }
   },
   "source": [
    "**c)** Filter this image using the **Sobel** masks. Find the two output images, representing the differential along the horizontal and vertical directions.\n"
   ]
  },
  {
   "cell_type": "code",
   "execution_count": null,
   "metadata": {},
   "outputs": [],
   "source": []
  },
  {
   "cell_type": "markdown",
   "metadata": {
    "deletable": false,
    "run_control": {
     "frozen": true
    }
   },
   "source": [
    "\n",
    "**d)** Compute the gradient, $|\\nabla I| = \\|\\nabla I\\| = \\sqrt{I_{x}^{2}(m,n)+I_{y}^{2}(m,n)}$, images based on the **Prewitt** and **Sobel** masks.\n"
   ]
  },
  {
   "cell_type": "code",
   "execution_count": null,
   "metadata": {},
   "outputs": [],
   "source": []
  },
  {
   "cell_type": "markdown",
   "metadata": {
    "deletable": false,
    "run_control": {
     "frozen": true
    }
   },
   "source": [
    "\n",
    "**e)** How will you interpret the results with respect to edges in the test image?"
   ]
  },
  {
   "cell_type": "markdown",
   "metadata": {},
   "source": []
  },
  {
   "cell_type": "markdown",
   "metadata": {},
   "source": [
    "\n",
    "## Problem 2\n",
    "\n",
    "Given a test image with black background (gray level 0), and a white rectangle (gray level value 1), of size $8 \\times 8$ pixels in the center. \n",
    "Use the notebook to create a matrix representing this image. \n",
    "\n",
    "Let the test image be of size $12 \\times 14$. \n",
    "\n",
    "<details>\n",
    "<summary>\n",
    "    <font size=\"3\" color=\"green\">\n",
    "        <b>Click here for a small hint </b>\n",
    "    </font>\n",
    "</summary>\n",
    "<div class=\"alert alert-block alert-info\">\n",
    "The test image can be created by the following numpy commands: \n",
    "    \n",
    "```python\n",
    "R = np.ones(shape=(8,8))\n",
    "I = np.zeros(shape=(12,14))\n",
    "I[2:10,3:11] = R\n",
    "```\n",
    "</div>\n",
    "</details>\n",
    "\n",
    "Use the notebook to do the necessary computations in the following questions.\n",
    "\n",
    "Use the Prewitt masks:\n",
    "$\\begin{equation}\\label{L4-eq1}\n",
    "    {\\mathbf h}_{x}= \\begin{bmatrix} 1\\; & 0\\; & -1\\\\ 1\\; & 0\\; & -1 \\\\\n",
    "      1\\; & 0\\; & -1\\end{bmatrix}   \\qquad {\\mathbf h}_{y}= \\begin{bmatrix} 1 & 1 & 1\\\\ 0 & 0 & 0 \\\\\n",
    "      -1 & -1 & -1\\end{bmatrix}.\n",
    "\\end{equation}$\n",
    "\n",
    "for the computation of the differentials, $\\frac{\\partial I}{\\partial x} = I_{x}$ and $\\frac{\\partial I}{\\partial y} = I_{y}$ respectively.\n",
    "\n",
    "\n",
    "**a)** Compute and sketch the gradient of the test image using the 2-norm for the magnitude. Use $|\\nabla I| = \\|\\nabla I\\| = \\sqrt{I_{x}^{2}(m,n)+I_{y}^{2}(m,n)}$. Show all relevant pixel values in the magnitude gradient image. \n",
    "\n",
    "\n",
    "**Hint:** use `cv2.filter2D` function ([Documentation](https://www.docs.opencv.org/master/d4/d86/group__imgproc__filter.html#ga27c049795ce870216ddfb366086b5a04)) to perform a convolutional operation on an image using a specific mask."
   ]
  },
  {
   "cell_type": "code",
   "execution_count": null,
   "metadata": {},
   "outputs": [],
   "source": []
  },
  {
   "cell_type": "markdown",
   "metadata": {
    "deletable": false,
    "run_control": {
     "frozen": true
    }
   },
   "source": [
    "\n",
    "**b)** Sketch the histogram of gradient directions. Be precise in labeling the height of each bar in the histogram.\n"
   ]
  },
  {
   "cell_type": "code",
   "execution_count": null,
   "metadata": {},
   "outputs": [],
   "source": []
  },
  {
   "cell_type": "markdown",
   "metadata": {
    "deletable": false,
    "run_control": {
     "frozen": true
    }
   },
   "source": [
    "\n",
    "\n",
    "**c)** Sketch the Laplacian of the test image using the mask in previous equation. Show all relevant pixel values in the Laplacian image.\n",
    "\n",
    "The Laplacian can be computed using the following mask:\n",
    "\\begin{equation}\\label{L4-eq2}\n",
    "    {\\mathbf h}_{L}=\n",
    "    \\begin{bmatrix} 0 & -1 & 0\\\\ -1 & 4 & -1\\\\ 0 & -1 & 0\\end{bmatrix},\n",
    "\\end{equation}\n"
   ]
  },
  {
   "cell_type": "code",
   "execution_count": null,
   "metadata": {},
   "outputs": [],
   "source": []
  },
  {
   "cell_type": "markdown",
   "metadata": {
    "deletable": false,
    "run_control": {
     "frozen": true
    }
   },
   "source": [
    "**d)** What is the resulting mask for computation of the Laplacian if the Prewitt masks are used for computation of the differentials? \n",
    "\n",
    "<details style=\"margin-top:20px\">\n",
    "    <summary>\n",
    "        <font size=\"2\" color=\"green\"><b>Click here for optional hints</b></font>\n",
    "    </summary>\n",
    "    </font>\n",
    "</summary>\n",
    "\n",
    "- Import the <code>scipy</code>  package and use the <code>convolve2d</code> function (<a href=\"https://docs.scipy.org/doc/scipy/reference/generated/scipy.signal.convolve2d.html\">Documentation</a>) for this task.\n",
    "\n",
    "- If you want to check if the resulting mask is correct, use the built-in cv2 <code>cv2.Laplacian(I, -1, ksize=5)</code> function (<a href=\"https://docs.opencv.org/4.5.3/d4/d86/group__imgproc__filter.html#gad78703e4c8fe703d479c1860d76429e6\">Documentation</a>) where <code>I</code> is the test image and <code>ksize</code> is the aperture size used to compute the second-derivative filters.\n",
    "</details>"
   ]
  },
  {
   "cell_type": "code",
   "execution_count": null,
   "metadata": {},
   "outputs": [],
   "source": []
  },
  {
   "cell_type": "markdown",
   "metadata": {
    "deletable": false,
    "run_control": {
     "frozen": true
    }
   },
   "source": [
    "\n",
    "## Problem 3\n",
    "\n",
    "One of the most common linear filters in computer vision applications is the Gaussian smoothing filter. \n",
    "\n",
    "In this problem we want to study the use of Gaussian filters with different standard deviations, $\\sigma$, and different sizes, $K \\times K$, where $K$ is odd ($K = 2k+1$, $k$ is integer). \n",
    "The filter kernel (mask) is found by using the OpenCV function `cv2.getGaussianKernel()` ([Documentation](https://docs.opencv.org/2.4/modules/imgproc/doc/filtering.html#Mat%20getGaussianKernel(int%20ksize,%20double%20sigma,%20int%20ktype))). \n",
    "Start by finding filter masks as follows\n",
    "\n",
    "**a)** **h05**: $\\sigma = 0.5$, $K = 7$\n",
    "\n",
    "**b)** **h1**: $\\sigma = 1$, $K = 11$\n",
    "\n",
    "**c)** **h15**: $\\sigma = 1.5$, $K = 15$\n",
    "\n",
    "Use the `plt.stem` function from Matplotlib and display each filter (sampled 1D Gaussian function). \n",
    "\n",
    "If the size $K$ is too small we will get a truncated Gaussian with a step at the tails. \n",
    "\n",
    "**d)** Show the result for c) above when $K = 7$."
   ]
  },
  {
   "cell_type": "code",
   "execution_count": null,
   "metadata": {},
   "outputs": [],
   "source": []
  },
  {
   "cell_type": "markdown",
   "metadata": {
    "deletable": false,
    "run_control": {
     "frozen": true
    }
   },
   "source": [
    "\n",
    "## Problem 4\n",
    "\n",
    "In this exercise we want to study how two well-known filters perform on noise removal, namely the Gaussian and the median filter. \n",
    "```python\n",
    "import cv2\n",
    "from skimage.util import random_noise\n",
    "\n",
    "Im = cv2.imread('./images/cameraman.jpg')\n",
    "Im_gauss = random_noise(Im,  mode='gaussian', mean=0, var=0.01) # Gaussian white noise with variance of 0.01 \n",
    "Im_SP = random_noise(Im, 's&p', amount=0.05) # Salt and pepper noise on 5% of the pixels\n",
    "```\n",
    "\n",
    "**a)** Apply Gaussian smoothing to the original image, `Im`,  using the defined filter kernels from problems 3a, 3b, and 3c. Explain the results.\n"
   ]
  },
  {
   "cell_type": "code",
   "execution_count": null,
   "metadata": {},
   "outputs": [],
   "source": []
  },
  {
   "cell_type": "markdown",
   "metadata": {
    "deletable": false,
    "run_control": {
     "frozen": true
    }
   },
   "source": [
    "Gaussian noise:\n",
    "\n",
    "**b)** Apply the three Gaussian filters, described in problems 3a, 3b, and 3c, to the image `Im_gauss`. Explain the results.\n",
    "\n",
    "**c)** Apply a median filter on the image `Im_gauss` using the command `scipy.ndimage.median_filter` ([Documentation](https://docs.scipy.org/doc/scipy/reference/generated/scipy.ndimage.median_filter.html#scipy.ndimage.median_filter)). How does this filter perform compared to the Gaussian filters?\n"
   ]
  },
  {
   "cell_type": "code",
   "execution_count": null,
   "metadata": {},
   "outputs": [],
   "source": []
  },
  {
   "cell_type": "markdown",
   "metadata": {
    "deletable": false,
    "run_control": {
     "frozen": true
    }
   },
   "source": [
    "\n",
    "Salt & pepper noise:\n",
    "\n",
    "**d)** Apply the three Gaussian filters, described in problems 3a, 3b, and 3c, to the image `Im_SP`. Explain the results.\n",
    "\n",
    "**e)** Apply a median filter on the image `Im_SP` using the command `scipy.ndimage.median_filter` ([Documentation](https://docs.scipy.org/doc/scipy/reference/generated/scipy.ndimage.median_filter.html#scipy.ndimage.median_filter)). How does this filter perform compared to the Gaussian filters?"
   ]
  },
  {
   "cell_type": "code",
   "execution_count": null,
   "metadata": {},
   "outputs": [],
   "source": []
  },
  {
   "cell_type": "markdown",
   "metadata": {
    "deletable": false,
    "run_control": {
     "frozen": true
    }
   },
   "source": [
    "\n",
    "\n",
    "### Delivery (dead line) on CANVAS: 29.09.2023 at 23.59\n"
   ]
  },
  {
   "cell_type": "markdown",
   "metadata": {
    "deletable": false,
    "run_control": {
     "frozen": true
    }
   },
   "source": [
    "## Contact\n",
    "### Course teacher\n",
    "Professor Kjersti Engan, room E-431,\n",
    "E-mail: kjersti.engan@uis.no\n",
    "\n",
    "### Teaching assistant\n",
    "Saul Fuster Navarro, room E-401\n",
    "E-mail: saul.fusternavarro@uis.no\n",
    "\n",
    "\n",
    "Jorge Garcia Torres Fernandez, room E-401\n",
    "E-mail: jorge.garcia-torres@uis.no"
   ]
  },
  {
   "cell_type": "markdown",
   "metadata": {
    "deletable": false,
    "run_control": {
     "frozen": true
    }
   },
   "source": [
    "\n",
    "## References\n",
    "\n",
    "[1] S. Birchfeld, Image Processing and Analysis. Cengage Learning, 2016.\n",
    "\n",
    "[2] I. Austvoll, \"Machine/robot vision part I,\" University of Stavanger, 2018. Compendium, CANVAS.\n"
   ]
  }
 ],
 "metadata": {
  "kernelspec": {
   "display_name": "Python 3 (ipykernel)",
   "language": "python",
   "name": "python3"
  },
  "language_info": {
   "codemirror_mode": {
    "name": "ipython",
    "version": 3
   },
   "file_extension": ".py",
   "mimetype": "text/x-python",
   "name": "python",
   "nbconvert_exporter": "python",
   "pygments_lexer": "ipython3",
   "version": "3.9.17"
  }
 },
 "nbformat": 4,
 "nbformat_minor": 4
}
